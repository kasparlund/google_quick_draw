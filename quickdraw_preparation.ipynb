{
 "cells": [
  {
   "cell_type": "markdown",
   "metadata": {},
   "source": [
    "## Reading and visualizing the data\n",
    "\n",
    "In the search for a solution ot keep all 50 million images in memory i evaluated:\n",
    "- generating and compressing grasycale images \n",
    "- compressing the drawing\n",
    "\n",
    "\n",
    "\n",
    "Both methods works: \n",
    "- Webp compression for grayscale images is very efficient with a fast decompression. The compression takes about 5h 30 min \n",
    "- Brotli compression of strokes in text format is as efficient as bz2 decompresses. Both compress much better than zlib. Brotli and zlib's decompression is 3 times fast compared to bz2. The compression takes about 10h 30 min (very slow compared to bz2 and zlib). \n",
    "- i have a macbook pro mid 2016\n",
    "\n",
    "Decompression of 50 million images can be generated form the compressed state to images in 13 and 26 min from the compressed drawing and compressed images respectively\n"
   ]
  },
  {
   "cell_type": "code",
   "execution_count": 1,
   "metadata": {},
   "outputs": [],
   "source": [
    "%load_ext autoreload\n",
    "%autoreload 2\n",
    "%matplotlib inline"
   ]
  },
  {
   "cell_type": "code",
   "execution_count": 2,
   "metadata": {},
   "outputs": [],
   "source": [
    "from code import *\n",
    "from graphics import *\n",
    "\n",
    "import pandas as pd\n",
    "import numpy as np\n",
    "import cv2\n",
    "from pathlib import Path\n",
    "import gc"
   ]
  },
  {
   "cell_type": "code",
   "execution_count": 3,
   "metadata": {},
   "outputs": [],
   "source": [
    "input_data       = Path(\"/Users/kasparlund/DropBox\")\n",
    "data             = Path(\"../data/google_quick_draw\")\n",
    "\n",
    "stroke_dir       = input_data/\"train_simplified\"\n",
    "one_stroke_file  = stroke_dir/\"ambulance.csv\"\n",
    "\n",
    "data_prepared    = data/\"prepared\"\n",
    "\n",
    "#astrokes_file = data_prepared/\"train_simplified.csv\"\n",
    "attribute_file  = data_prepared/\"train_simplified_attributes.csv\"\n",
    "vocab_file       = data_prepared/\"vocab.json\""
   ]
  },
  {
   "cell_type": "code",
   "execution_count": 4,
   "metadata": {},
   "outputs": [],
   "source": [
    "size, line_width  = 28, 1\n",
    "valid_ratio = 0.1\n",
    "linetype    = cv2.LINE_8 #cv2.LINE_AA\n",
    "compressed_drawings = True\n",
    "\n",
    "images_file      = data_prepared/f\"imgs_webp_{size}x{size}_lw{line_width}.pkl\"\n",
    "drawings_file    = data_prepared/f\"c_drawings.pkl\"\n",
    "train_valid_name = \"c_drawing_train_valid\" if compressed_drawings else \\\n",
    "                    f\"c_image_train_valid_{size}x{size}_lw{line_width}.gzip\"\n",
    "train_valid_file = data_prepared/f\"{train_valid_name}.gzip\""
   ]
  },
  {
   "cell_type": "code",
   "execution_count": 5,
   "metadata": {},
   "outputs": [
    {
     "name": "stdout",
     "output_type": "stream",
     "text": [
      "True\n",
      "True\n"
     ]
    },
    {
     "data": {
      "text/plain": [
       "(PosixPath('../data/google_quick_draw/prepared/imgs_webp_28x28_lw1.pkl'),\n",
       " PosixPath('../data/google_quick_draw/prepared/c_drawing_train_valid.gzip'))"
      ]
     },
     "execution_count": 5,
     "metadata": {},
     "output_type": "execute_result"
    }
   ],
   "source": [
    "print(data.exists()), print(one_stroke_file.exists())\n",
    "images_file,train_valid_file"
   ]
  },
  {
   "cell_type": "markdown",
   "metadata": {},
   "source": [
    "## analyses one data tabel"
   ]
  },
  {
   "cell_type": "raw",
   "metadata": {},
   "source": [
    "#read stroke data\n",
    "df = pd.read_csv(one_stroke_file)\n",
    "df[:3]"
   ]
  },
  {
   "cell_type": "raw",
   "metadata": {},
   "source": [
    "df[ pd.isna(df['word']) ]"
   ]
  },
  {
   "cell_type": "raw",
   "metadata": {},
   "source": [
    "# df[\"word\"] = df[\"word\"].apply( lambda word: word.strip().replace(\" \", \"_\") )\n",
    "df[:3]"
   ]
  },
  {
   "cell_type": "raw",
   "metadata": {},
   "source": [
    "import brotli\n",
    "s_drawing = df.drawing.copy()\n",
    "\n",
    "%time s_drawing = s_drawing.apply( lambda txt: brotli.compress(txt.encode(\"utf-8\") ) )\n",
    "\n",
    "%time drawing = brotli.decompress( s_drawing[0] ).decode(\"utf-8\")\n",
    "\n",
    "print(len(df.drawing[0]), len(s_drawing[0]))"
   ]
  },
  {
   "cell_type": "raw",
   "metadata": {},
   "source": [
    "ix            = [i for i in np.random.randint(0,len(df),1000) ]\n",
    "%time imgs_de = convert_strokes2image( df.drawing[ix], size, line_width, linetype, compressed_drawings = False )\n",
    "%time imgs_de = convert_strokes2image( s_drawing[ix],  size, line_width, linetype, compressed_drawings = compressed_drawings)\n",
    "plot_images( imgs_de, cm.Greys, max_rows_cols=8 )"
   ]
  },
  {
   "cell_type": "markdown",
   "metadata": {},
   "source": [
    "## Prepare data\n",
    "\n",
    "- compress all images or drawings into lists of compressed drawing or images, \n",
    "- create one annotation file\n",
    "- replace space in labels with _\n",
    "- create vocabulary file to tranlate between label and numeric tokens\n",
    "\n",
    "- create a traiing and validation dataframe with the minimum number of required columns from the annotation file and the compressed image or drawing "
   ]
  },
  {
   "cell_type": "code",
   "execution_count": 6,
   "metadata": {
    "scrolled": true
   },
   "outputs": [],
   "source": [
    "from fastprogress import master_bar, progress_bar\n",
    "from fastprogress.fastprogress import format_time\n",
    "\n",
    "import pickle\n",
    "def merge_stroke_files(stroke_dir:Path, attribute_file:Path, vocab_file:Path, compressed_file:Path, compressed_drawings:bool ):\n",
    "    total_rows = 0\n",
    "    \n",
    "    #nan_label = \"\"\n",
    "    vocab = {}\n",
    "    token = 0\n",
    "    #vocab[\"\"] = token\n",
    "    \n",
    "    attribute_columns = train_valid_columns = None\n",
    "    with attribute_file.open(\"w\", encoding=\"utf-8\") as f_attributes:\n",
    "        files        = list( stroke_dir.glob(\"*.csv\") )\n",
    "        write_header = True\n",
    "        for f in  progress_bar(files):\n",
    "            print(f\"processing: {f.name}\")\n",
    "            df = pd.read_csv(f)\n",
    "            df.drop([\"timestamp\"], axis=1, inplace=True)\n",
    "                \n",
    "            #replace space in label with _, add label to vocab and create word_code column\n",
    "            if sum(pd.isna(df['word'])) > 0: print(f\"nan in word field for file:{f}\")\n",
    "            df[\"word\"] = df[\"word\"].apply( lambda word: word.strip().replace(\" \", \"_\") )\n",
    "            vocab[df[\"word\"][0]] = token\n",
    "            df[\"word_code\"]      = token\n",
    "            token += 1\n",
    "                \n",
    "            if attribute_columns is None:\n",
    "                attribute_columns   = [c for c in df.columns if c not in [\"drawing\"] ]\n",
    "                #train_valid_columns = [\"word_code\",\"drawing\"]\n",
    "                    \n",
    "            #include header at first write\n",
    "            df.to_csv(f_attributes,  columns=attribute_columns,   header=write_header, mode='a', encoding='utf-8') \n",
    "            #df.to_csv(f_train_valid, columns=train_valid_columns, header=write_header, mode='a', encoding='utf-8') \n",
    "            write_header = False\n",
    "            \n",
    "            if compressed_drawings : \n",
    "                compressed = [brotli.compress(txt.encode(\"utf-8\")) for txt in df[\"drawing\"] ]\n",
    "            else:    \n",
    "                compressed = convert_strokes2webp(df[\"drawing\"], size, line_width)\n",
    "                \n",
    "            #the value of images_file is set by the user accoridn to whether we compress drawings or images    \n",
    "            with compressed_file.open(\"ba+\") as fp:\n",
    "                pickle.dump(compressed, fp, protocol=pickle.HIGHEST_PROTOCOL)\n",
    "                \n",
    "            total_rows += df.shape[0]\n",
    "                                           \n",
    "    with open(vocab_file, 'w') as fp:\n",
    "        json.dump(vocab, fp)\n",
    "                                           \n",
    "    print(f\"total number of drawing: {total_rows}\") \n",
    "    print(f\"vocab size:{len(vocab)}:\\n{vocab}\")\n",
    "    gc.collect()\n",
    "\n",
    "import operator\n",
    "def map_word_codes_to_label( vocab, word_codes):\n",
    "    categories = [k for k,v in sorted(vocab.items(), key=operator.itemgetter(1))]\n",
    "    return pd.Series( pd.Categorical.from_codes(word_codes, categories=categories, ordered=True) )\n",
    "#words = map_word_codes_to_label( vocab, df_train[\"word_code\"])\n",
    "#words.cat.ordered, words.cat.categories.tolist()\n",
    "\n",
    "\n",
    "if not attribute_file.exists():\n",
    "    #%time merge_stroke_files(stroke_dir, attribute_file, vocab_file, images_file)\n",
    "    if compressed_drawings: \n",
    "        %time merge_stroke_files(stroke_dir, attribute_file, vocab_file, drawings_file, compressed_drawings=compressed_drawings)\n",
    "    else:\n",
    "        %time merge_stroke_files(stroke_dir, attribute_file, vocab_file, images_file,   compressed_drawings=False)        \n",
    "        "
   ]
  },
  {
   "cell_type": "code",
   "execution_count": 7,
   "metadata": {},
   "outputs": [],
   "source": [
    "if not train_valid_file.exists():\n",
    "    %time compressed_art = readall( drawings_file if compressed_drawings else images_file )\n",
    "    gc.collect()\n",
    "    print(f\"number of images {len(compressed_art)}\")\n",
    "    \n",
    "    #plot random images to verify that we can decode random the compressed drawings\n",
    "    comp_art = [compressed_art[i] for i in np.random.randint(0,len(compressed_art),1000)]\n",
    "    %time ims = convert_strokes2image( comp_art, size, line_width, linetype, compressed_drawings) \\\n",
    "                if compressed_drawings else decode_images( comp_art )\n",
    "    plot_images( ims, cm.Greys, max_rows_cols=8 )    "
   ]
  },
  {
   "cell_type": "code",
   "execution_count": 8,
   "metadata": {
    "code_folding": [],
    "scrolled": true
   },
   "outputs": [],
   "source": [
    "#create a training file with numericalized words and training vs validation samples\n",
    "if not train_valid_file.exists():\n",
    "    with vocab_file.open('r') as fp:\n",
    "        vocab = json.load(fp)\n",
    "                                 \n",
    "    %time df_train = pd.read_csv(attribute_file, usecols=[\"word_code\"], dtype={'word_code': np.uint16})\n",
    "    \n",
    "    if compressed_drawings:\n",
    "        %time df_train[\"c_drawings\"] = compressed_art \n",
    "    else:     \n",
    "        %time df_train[\"c_images\"]   = compressed_art \n",
    "    \n",
    "    df_train[\"train_valid\"] = True\n",
    "    %time split_train_valid_in_place( df_train, df_train.columns.get_loc(\"train_valid\"), valid_ratio )\n",
    "    print(df_train[\"train_valid\"].nbytes, df_train[\"word_code\"].nbytes, df_train.shape )\n",
    "    print(df_train[\"c_drawings\" if compressed_drawings else \"c_imgs\"].nbytes )\n",
    "    df_train.head() \n",
    "    \n",
    "    gc.collect()\n",
    "    #produce the file for training\n",
    "    %time df_train.to_pickle(train_valid_file)"
   ]
  },
  {
   "cell_type": "markdown",
   "metadata": {},
   "source": [
    "# in the training phase we would read data as shown below"
   ]
  },
  {
   "cell_type": "code",
   "execution_count": 9,
   "metadata": {},
   "outputs": [
    {
     "name": "stdout",
     "output_type": "stream",
     "text": [
      "CPU times: user 12.7 s, sys: 18.2 s, total: 30.9 s\n",
      "Wall time: 31.9 s\n"
     ]
    },
    {
     "data": {
      "text/plain": [
       "0"
      ]
     },
     "execution_count": 9,
     "metadata": {},
     "output_type": "execute_result"
    }
   ],
   "source": [
    "df_train=None\n",
    "gc.collect()\n",
    "%time df_train = pd.read_pickle(train_valid_file)\n",
    "gc.collect()"
   ]
  },
  {
   "cell_type": "code",
   "execution_count": 10,
   "metadata": {},
   "outputs": [
    {
     "name": "stdout",
     "output_type": "stream",
     "text": [
      "reading and converting compressed drawings to images\n",
      "CPU times: user 80.9 ms, sys: 4.57 ms, total: 85.5 ms\n",
      "Wall time: 84.8 ms\n",
      "plot images : 1000\n"
     ]
    },
    {
     "data": {
      "image/png": "[encoded data removed]",
      "text/plain": [
       "<Figure size 864x864 with 64 Axes>"
      ]
     },
     "metadata": {
      "needs_background": "light"
     },
     "output_type": "display_data"
    }
   ],
   "source": [
    "if compressed_drawings:\n",
    "    print(\"reading and converting compressed drawings to images\")\n",
    "    compressed = [df_train.c_drawings.iloc[i] for i in np.random.randint(0,len(df_train),1000) ]\n",
    "    %time ims = convert_strokes2image(compressed, size, line_width, linetype, compressed_drawings) \n",
    "else:    \n",
    "    print(\"reading and decompressing images\")\n",
    "    compressed = [df_train.c_imgs.iloc[i] for i in np.random.randint(0,len(df_train),1000) ]             \n",
    "    %time ims = decode_images( compressed )\n",
    "    \n",
    "print(f\"plot images : {len(ims)}\")\n",
    "plot_images( ims, cm.Greys, max_rows_cols=8 )"
   ]
  },
  {
   "cell_type": "code",
   "execution_count": null,
   "metadata": {},
   "outputs": [],
   "source": []
  }
 ],
 "metadata": {
  "kernelspec": {
   "display_name": "Python 3",
   "language": "python",
   "name": "python3"
  },
  "language_info": {
   "codemirror_mode": {
    "name": "ipython",
    "version": 3
   },
   "file_extension": ".py",
   "mimetype": "text/x-python",
   "name": "python",
   "nbconvert_exporter": "python",
   "pygments_lexer": "ipython3",
   "version": "3.7.2"
  }
 },
 "nbformat": 4,
 "nbformat_minor": 2
}
