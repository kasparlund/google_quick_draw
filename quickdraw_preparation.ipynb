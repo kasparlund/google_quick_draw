{
 "cells": [
  {
   "cell_type": "markdown",
   "metadata": {},
   "source": [
    "## Reading and visualizing the data\n",
    "\n",
    "In the search for a solution ot keep all 50 million images in memory i evaluated:\n",
    "- generating and compressing grasycale images \n",
    "- compressing the drawing\n",
    "\n",
    "\n",
    "\n",
    "Both methods works: \n",
    "- Webp compression for grayscale images is very efficient with a fast decompression. The compression takes about 5h 30 min \n",
    "- Brotli compression of strokes in text format is as efficient as bz2 decompresses. Both compress much better than zlib. Brotli and zlib's decompression is 3 times fast compared to bz2. The compression takes about 10h 30 min (very slow compared to bz2 and zlib). \n",
    "- i have a macbook pro mid 2016\n",
    "\n",
    "Decompression of 50 million images can be generated form the compressed state to images in 13 and 26 min from the compressed drawing and compressed images respectively\n"
   ]
  },
  {
   "cell_type": "code",
   "execution_count": 1,
   "metadata": {},
   "outputs": [],
   "source": [
    "%load_ext autoreload\n",
    "%autoreload 2\n",
    "%matplotlib inline"
   ]
  },
  {
   "cell_type": "code",
   "execution_count": 18,
   "metadata": {},
   "outputs": [],
   "source": [
    "import pandas as pd\n",
    "import numpy as np\n",
    "from pathlib import Path\n",
    "import os\n",
    "import matplotlib\n",
    "import matplotlib.cm as cm\n",
    "import matplotlib.pyplot as plt \n",
    "import json\n",
    "import math\n",
    "import cv2\n",
    "import brotli\n",
    "from PIL import Image, ImageDraw\n",
    "from io import BytesIO,SEEK_SET\n",
    "\n",
    "import gc"
   ]
  },
  {
   "cell_type": "code",
   "execution_count": 3,
   "metadata": {},
   "outputs": [],
   "source": [
    "input_data       = Path(\"/Users/kasparlund/DropBox\")\n",
    "data             = Path(\"../data/google_quick_draw\")\n",
    "\n",
    "stroke_dir       = input_data/\"train_simplified\"\n",
    "one_stroke_file  = stroke_dir/\"ambulance.csv\"\n",
    "\n",
    "data_prepared    = data/\"prepared\"\n",
    "\n",
    "#astrokes_file = data_prepared/\"train_simplified.csv\"\n",
    "attribute_file  = data_prepared/\"train_simplified_attributes.csv\"\n",
    "vocab_file       = data_prepared/\"vocab.json\""
   ]
  },
  {
   "cell_type": "code",
   "execution_count": 4,
   "metadata": {},
   "outputs": [],
   "source": [
    "size, line_width  = 28, 1\n",
    "valid_ratio = 0.1\n",
    "linetype    = cv2.LINE_8 #cv2.LINE_AA\n",
    "compressed_drawings = True\n",
    "\n",
    "images_file      = data_prepared/f\"imgs_webp_{size}x{size}_lw{line_width}.pkl\"\n",
    "drawings_file    = data_prepared/f\"c_drawings.pkl\"\n",
    "train_valid_name = \"c_drawing_train_valid\" if compressed_drawings else \\\n",
    "                    f\"c_image_train_valid_{size}x{size}_lw{line_width}.gzip\"\n",
    "train_valid_file = data_prepared/f\"{train_valid_name}.gzip\""
   ]
  },
  {
   "cell_type": "code",
   "execution_count": 5,
   "metadata": {},
   "outputs": [
    {
     "name": "stdout",
     "output_type": "stream",
     "text": [
      "True\n",
      "True\n"
     ]
    },
    {
     "data": {
      "text/plain": [
       "(PosixPath('../data/google_quick_draw/prepared/imgs_webp_28x28_lw1.pkl'),\n",
       " PosixPath('../data/google_quick_draw/prepared/c_drawing_train_valid.gzip'))"
      ]
     },
     "execution_count": 5,
     "metadata": {},
     "output_type": "execute_result"
    }
   ],
   "source": [
    "print(data.exists()), print(one_stroke_file.exists())\n",
    "images_file,train_valid_file"
   ]
  },
  {
   "cell_type": "markdown",
   "metadata": {},
   "source": [
    "## code"
   ]
  },
  {
   "cell_type": "code",
   "execution_count": 6,
   "metadata": {},
   "outputs": [],
   "source": [
    "#convert strokes to an image\n",
    "min_color        = 10 #so that we can see the line\n",
    "max_color        = 255-min_color #symmetri\n",
    "max_stroke_coord = 255\n",
    "\n",
    "def strokes2image(str_strokes:str, size:int=256, lw:int=6, linetype=cv2.LINE_8):\n",
    "    stroke_scale= size / (max_stroke_coord+1)\n",
    "    #scale coordinates to image size\n",
    "    strokes     = [ [np.transpose((0.5+stroke_scale*np.asarray(s, dtype=np.float))).astype(dtype=np.int32)] \n",
    "                   for s in json.loads(str_strokes)]\n",
    "    \n",
    "    #scale color to the stroke index (alias for time)            \n",
    "    scale_color = max_color//len(strokes)\n",
    "    colors      = [ min_color + scale_color*i for i in range(len(strokes)) ]\n",
    "    \n",
    "    img         = np.zeros((size, size), np.uint8)\n",
    "    for color, s in zip(colors,strokes):\n",
    "        cv2.polylines(img, s, False, color, lw, linetype)\n",
    "        #cv2.polylines(img, s, isClosed=False, color=color, thickness=lw)\n",
    "        \n",
    "    return img\n",
    "\n",
    "def convert_strokes2image(drawings, size, line_width, linetype, compressed_drawings):\n",
    "    \"convert strokes to images\"\n",
    "    ims = []\n",
    "    for drawing in drawings : \n",
    "        if compressed_drawings:\n",
    "            im = strokes2image( brotli.decompress(drawing).decode(\"utf-8\"), size=size, lw=line_width, linetype=linetype)\n",
    "        else: \n",
    "            im = strokes2image( drawing, size=size, lw=line_width, linetype=linetype)\n",
    "        ims.append( im )\n",
    "    return ims\n"
   ]
  },
  {
   "cell_type": "code",
   "execution_count": 7,
   "metadata": {},
   "outputs": [],
   "source": [
    "#compressing and decompressing images\n",
    "def convert_strokes2webp(drawings, size, line_width):\n",
    "    \"convert strokes to images\"\n",
    "    ims = []\n",
    "    for drawing in drawings :            \n",
    "        im = strokes2image( drawing, size=size, lw=line_width)\n",
    "        with BytesIO() as byteIO:\n",
    "            im = Image.fromarray(im).save(byteIO, format=\"webp\", lossless=True ) #, quality=100)\n",
    "            ims.append( byteIO.getvalue() )\n",
    "    return ims\n",
    "\n",
    "def decode_images(imgs:list):\n",
    "    ims_de = []    \n",
    "    for im in imgs :\n",
    "        with BytesIO( im ) as byteIO:\n",
    "            ims_de.append( np.asarray(Image.open(byteIO).convert(\"L\")) )            \n",
    "    return ims_de\n",
    "\n",
    "def loadall(pickle_file):\n",
    "    with open(pickle_file, \"rb\") as f:\n",
    "        while True:\n",
    "            try:\n",
    "                yield pickle.load(f)\n",
    "            except EOFError:\n",
    "                break\n",
    "\n",
    "def readall(pickle_file ):\n",
    "    \"return a list of images compressed and save by merge_stroke_files\"\n",
    "    imgs = []\n",
    "    for imgs_section in loadall(pickle_file):\n",
    "        imgs.extend( imgs_section )\n",
    "        gc.collect()    \n",
    "    return imgs\n"
   ]
  },
  {
   "cell_type": "code",
   "execution_count": 8,
   "metadata": {},
   "outputs": [],
   "source": [
    "#graphics\n",
    "def plot_images( ims, cmap=cm.Greys, max_rows_cols=10 ):\n",
    "    n        = max(2,min(max_rows_cols, int(math.sqrt(len(ims))) ))\n",
    "    fig, axs = plt.subplots(nrows=n, ncols=n, sharex=True, sharey=True, figsize=(12, 12))\n",
    "    n_figs   = min(len(ims),n**2)\n",
    "    for i in range(n_figs):\n",
    "        ax = axs[i // n, i % n]\n",
    "        ax.imshow( ims[i], cmap=cm.Greys)\n",
    "        ax.axis('off')\n",
    "    plt.tight_layout()"
   ]
  },
  {
   "cell_type": "markdown",
   "metadata": {},
   "source": [
    "## analyses one data tabel"
   ]
  },
  {
   "cell_type": "raw",
   "metadata": {},
   "source": [
    "#read stroke data\n",
    "df = pd.read_csv(one_stroke_file)\n",
    "df[:3]"
   ]
  },
  {
   "cell_type": "raw",
   "metadata": {},
   "source": [
    "df[ pd.isna(df['word']) ]"
   ]
  },
  {
   "cell_type": "raw",
   "metadata": {},
   "source": [
    "# df[\"word\"] = df[\"word\"].apply( lambda word: word.strip().replace(\" \", \"_\") )\n",
    "df[:3]"
   ]
  },
  {
   "cell_type": "raw",
   "metadata": {},
   "source": [
    "import brotli\n",
    "s_drawing = df.drawing.copy()\n",
    "\n",
    "%time s_drawing = s_drawing.apply( lambda txt: brotli.compress(txt.encode(\"utf-8\") ) )\n",
    "\n",
    "%time drawing = brotli.decompress( s_drawing[0] ).decode(\"utf-8\")\n",
    "\n",
    "print(len(df.drawing[0]), len(s_drawing[0]))"
   ]
  },
  {
   "cell_type": "raw",
   "metadata": {},
   "source": [
    "ix            = [i for i in np.random.randint(0,len(df),1000) ]\n",
    "%time imgs_de = convert_strokes2image( df.drawing[ix], size, line_width, linetype, compressed_drawings = False )\n",
    "%time imgs_de = convert_strokes2image( s_drawing[ix],  size, line_width, linetype, compressed_drawings = compressed_drawings)\n",
    "plot_images( imgs_de, cm.Greys, max_rows_cols=8 )"
   ]
  },
  {
   "cell_type": "markdown",
   "metadata": {},
   "source": [
    "## Prepare training files\n",
    "\n",
    "replace space in words and save an attribute file and a file with compressed images/drawings\n",
    "read the compressed imageds/drawings and create a dataset for training and validation with the numericalize labels, tagging of training and validation data, the compressed drawing/images"
   ]
  },
  {
   "cell_type": "markdown",
   "metadata": {},
   "source": [
    "## code"
   ]
  },
  {
   "cell_type": "code",
   "execution_count": 9,
   "metadata": {},
   "outputs": [],
   "source": [
    "#convert strokes to an image\n",
    "min_color        = 10 #so that we can see the line\n",
    "max_color        = 255-min_color #symmetri\n",
    "max_stroke_coord = 255\n",
    "\n",
    "def strokes2image(str_strokes:str, size:int=256, lw:int=6, linetype=cv2.LINE_8):\n",
    "    stroke_scale= size / (max_stroke_coord+1)\n",
    "    #scale coordinates to image size\n",
    "    strokes     = [ [np.transpose((0.5+stroke_scale*np.asarray(s, dtype=np.float))).astype(dtype=np.int32)] \n",
    "                   for s in json.loads(str_strokes)]\n",
    "    \n",
    "    #scale color to the stroke index (alias for time)            \n",
    "    scale_color = max_color//len(strokes)\n",
    "    colors      = [ min_color + scale_color*i for i in range(len(strokes)) ]\n",
    "    \n",
    "    img         = np.zeros((size, size), np.uint8)\n",
    "    for color, s in zip(colors,strokes):\n",
    "        cv2.polylines(img, s, False, color, lw, linetype)\n",
    "        #cv2.polylines(img, s, isClosed=False, color=color, thickness=lw)\n",
    "        \n",
    "    return img\n",
    "\n",
    "def convert_strokes2image(drawings, size, line_width, linetype, compressed_drawings):\n",
    "    \"convert strokes to images\"\n",
    "    ims = []\n",
    "    for drawing in drawings : \n",
    "        if compressed_drawings:\n",
    "            im = strokes2image( brotli.decompress(drawing).decode(\"utf-8\"), size=size, lw=line_width, linetype=linetype)\n",
    "        else: \n",
    "            im = strokes2image( drawing, size=size, lw=line_width, linetype=linetype)\n",
    "        ims.append( im )\n",
    "    return ims\n"
   ]
  },
  {
   "cell_type": "code",
   "execution_count": 10,
   "metadata": {},
   "outputs": [],
   "source": [
    "#compressing and decompressing images\n",
    "def convert_strokes2webp(drawings, size, line_width):\n",
    "    \"convert strokes to images\"\n",
    "    ims = []\n",
    "    for drawing in drawings :            \n",
    "        im = strokes2image( drawing, size=size, lw=line_width)\n",
    "        with BytesIO() as byteIO:\n",
    "            im = Image.fromarray(im).save(byteIO, format=\"webp\", lossless=True ) #, quality=100)\n",
    "            ims.append( byteIO.getvalue() )\n",
    "    return ims\n",
    "\n",
    "def decode_images(imgs:list):\n",
    "    ims_de = []    \n",
    "    for im in imgs :\n",
    "        with BytesIO( im ) as byteIO:\n",
    "            ims_de.append( np.asarray(Image.open(byteIO).convert(\"L\")) )            \n",
    "    return ims_de\n",
    "\n",
    "def loadall(pickle_file):\n",
    "    with open(pickle_file, \"rb\") as f:\n",
    "        while True:\n",
    "            try:\n",
    "                yield pickle.load(f)\n",
    "            except EOFError:\n",
    "                break\n",
    "\n",
    "def readallImages(pickle_file ):\n",
    "    \"return a list of images compressed and save by merge_stroke_files\"\n",
    "    imgs = []\n",
    "    for imgs_section in loadall(pickle_file):\n",
    "        imgs.extend( imgs_section )\n",
    "        gc.collect()    \n",
    "    return imgs\n"
   ]
  },
  {
   "cell_type": "code",
   "execution_count": 11,
   "metadata": {},
   "outputs": [],
   "source": [
    "# Numericalization of labels\n",
    "# We try to get then same validation ratio for each label\n",
    "def split_train_valid_in_place( df, ix_train_valid_col:int, valid_ratio:float):\n",
    "    # increase valid_ratio is a bit high due to truncation that happens when doing randomization in groups\n",
    "    valid_ratio = 1.06*valid_ratio\n",
    " \n",
    "    k=0\n",
    "    for n,g in df.groupby(\"word_code\"):\n",
    "        if len(g) > 1: \n",
    "            ix_valid = np.random.randint(0, len(g), size=int( len(g)*valid_ratio+.5) )\n",
    "            df.iloc[g.index[ix_valid], ix_train_valid_col] = False \n",
    "    gc.collect()\n",
    "    valid_ratio_measured = (1- sum(df[\"train_valid\"]) / len(df) )\n",
    "    print(f\"Specificied validation ratio:{valid_ratio} measured ration:{valid_ratio_measured}\" )"
   ]
  },
  {
   "cell_type": "code",
   "execution_count": 12,
   "metadata": {},
   "outputs": [],
   "source": [
    "#graphics\n",
    "def plot_images( ims, cmap=cm.Greys, max_rows_cols=10 ):\n",
    "    n        = max(2,min(max_rows_cols, int(math.sqrt(len(ims))) ))\n",
    "    fig, axs = plt.subplots(nrows=n, ncols=n, sharex=True, sharey=True, figsize=(12, 12))\n",
    "    n_figs   = min(len(ims),n**2)\n",
    "    for i in range(n_figs):\n",
    "        ax = axs[i // n, i % n]\n",
    "        ax.imshow( ims[i], cmap=cm.Greys)\n",
    "        ax.axis('off')\n",
    "    plt.tight_layout()"
   ]
  },
  {
   "cell_type": "code",
   "execution_count": 13,
   "metadata": {
    "scrolled": true
   },
   "outputs": [],
   "source": [
    "from fastprogress import master_bar, progress_bar\n",
    "from fastprogress.fastprogress import format_time\n",
    "\n",
    "import pickle\n",
    "def merge_stroke_files(stroke_dir:Path, attribute_file:Path, vocab_file:Path, compressed_file:Path, compressed_drawings:bool ):\n",
    "    total_rows = 0\n",
    "    \n",
    "    #nan_label = \"\"\n",
    "    vocab = {}\n",
    "    token = 0\n",
    "    #vocab[\"\"] = token\n",
    "    \n",
    "    attribute_columns = train_valid_columns = None\n",
    "    with attribute_file.open(\"w\", encoding=\"utf-8\") as f_attributes:\n",
    "        files        = list( stroke_dir.glob(\"*.csv\") )\n",
    "        write_header = True\n",
    "        for f in  progress_bar(files):\n",
    "            print(f\"processing: {f.name}\")\n",
    "            df = pd.read_csv(f)\n",
    "            df.drop([\"timestamp\"], axis=1, inplace=True)\n",
    "                \n",
    "            #replace space in label with _, add label to vocab and create word_code column\n",
    "            if sum(pd.isna(df['word'])) > 0: print(f\"nan in word field for file:{f}\")\n",
    "            df[\"word\"] = df[\"word\"].apply( lambda word: word.strip().replace(\" \", \"_\") )\n",
    "            vocab[df[\"word\"][0]] = token\n",
    "            df[\"word_code\"]      = token\n",
    "            token += 1\n",
    "                \n",
    "            if attribute_columns is None:\n",
    "                attribute_columns   = [c for c in df.columns if c not in [\"drawing\"] ]\n",
    "                #train_valid_columns = [\"word_code\",\"drawing\"]\n",
    "                    \n",
    "            #include header at first write\n",
    "            df.to_csv(f_attributes,  columns=attribute_columns,   header=write_header, mode='a', encoding='utf-8') \n",
    "            #df.to_csv(f_train_valid, columns=train_valid_columns, header=write_header, mode='a', encoding='utf-8') \n",
    "            write_header = False\n",
    "            \n",
    "            if compressed_drawings : \n",
    "                compressed = [brotli.compress(txt.encode(\"utf-8\")) for txt in df[\"drawing\"] ]\n",
    "            else:    \n",
    "                compressed = convert_strokes2webp(df[\"drawing\"], size, line_width)\n",
    "                \n",
    "            #the value of images_file is set by the user accoridn to whether we compress drawings or images    \n",
    "            with compressed_file.open(\"ba+\") as fp:\n",
    "                pickle.dump(compressed, fp, protocol=pickle.HIGHEST_PROTOCOL)\n",
    "                \n",
    "            total_rows += df.shape[0]\n",
    "                                           \n",
    "    with open(vocab_file, 'w') as fp:\n",
    "        json.dump(vocab, fp)\n",
    "                                           \n",
    "    print(f\"total number of drawing: {total_rows}\") \n",
    "    print(f\"vocab size:{len(vocab)}:\\n{vocab}\")\n",
    "    gc.collect()\n",
    "\n",
    "import operator\n",
    "def map_word_codes_to_label( vocab, word_codes):\n",
    "    categories = [k for k,v in sorted(vocab.items(), key=operator.itemgetter(1))]\n",
    "    return pd.Series( pd.Categorical.from_codes(word_codes, categories=categories, ordered=True) )\n",
    "#words = map_word_codes_to_label( vocab, df_train[\"word_code\"])\n",
    "#words.cat.ordered, words.cat.categories.tolist()\n",
    "\n",
    "\n",
    "if not attribute_file.exists():\n",
    "    #%time merge_stroke_files(stroke_dir, attribute_file, vocab_file, images_file)\n",
    "    if compressed_drawings: \n",
    "        %time merge_stroke_files(stroke_dir, attribute_file, vocab_file, drawings_file, compressed_drawings=compressed_drawings)\n",
    "    else:\n",
    "        %time merge_stroke_files(stroke_dir, attribute_file, vocab_file, images_file,   compressed_drawings=False)        \n",
    "        "
   ]
  },
  {
   "cell_type": "code",
   "execution_count": 14,
   "metadata": {},
   "outputs": [],
   "source": [
    "if not train_valid_file.exists():\n",
    "    %time compressed_art = readall( drawings_file if compressed_drawings else images_file )\n",
    "    gc.collect()\n",
    "    print(f\"number of images {len(compressed_art)}\")\n",
    "    \n",
    "    #plot random images to verify that we can decode random the compressed drawings\n",
    "    comp_art = [compressed_art[i] for i in np.random.randint(0,len(compressed_art),1000)]\n",
    "    %time ims = convert_strokes2image( comp_art, size, line_width, linetype, compressed_drawings) \\\n",
    "                if compressed_drawings else decode_images( comp_art )\n",
    "    plot_images( ims, cm.Greys, max_rows_cols=8 )    "
   ]
  },
  {
   "cell_type": "code",
   "execution_count": 15,
   "metadata": {
    "code_folding": [],
    "scrolled": true
   },
   "outputs": [],
   "source": [
    "#create a training file with numericalized words and training vs validation samples\n",
    "if not train_valid_file.exists():\n",
    "    with vocab_file.open('r') as fp:\n",
    "        vocab = json.load(fp)\n",
    "                                 \n",
    "    %time df_train = pd.read_csv(attribute_file, usecols=[\"word_code\"], dtype={'word_code': np.uint16})\n",
    "    \n",
    "    if compressed_drawings:\n",
    "        %time df_train[\"c_drawings\"] = compressed_art \n",
    "    else:     \n",
    "        %time df_train[\"c_images\"]   = compressed_art \n",
    "    \n",
    "    df_train[\"train_valid\"] = True\n",
    "    %time split_train_valid_in_place( df_train, df_train.columns.get_loc(\"train_valid\"), valid_ratio )\n",
    "    print(df_train[\"train_valid\"].nbytes, df_train[\"word_code\"].nbytes, df_train.shape )\n",
    "    print(df_train[\"c_drawings\" if compressed_drawings else \"c_imgs\"].nbytes )\n",
    "    df_train.head() \n",
    "    \n",
    "    gc.collect()\n",
    "    #produce the file for training\n",
    "    %time df_train.to_pickle(train_valid_file)"
   ]
  },
  {
   "cell_type": "markdown",
   "metadata": {},
   "source": [
    "# in the training phase we would read data as shown below"
   ]
  },
  {
   "cell_type": "code",
   "execution_count": 16,
   "metadata": {},
   "outputs": [
    {
     "name": "stdout",
     "output_type": "stream",
     "text": [
      "CPU times: user 14.4 s, sys: 26.8 s, total: 41.2 s\n",
      "Wall time: 46.5 s\n"
     ]
    }
   ],
   "source": [
    "df_train=None\n",
    "gc.collect()\n",
    "%time df_train = pd.read_pickle(train_valid_file)"
   ]
  },
  {
   "cell_type": "code",
   "execution_count": 19,
   "metadata": {},
   "outputs": [
    {
     "name": "stdout",
     "output_type": "stream",
     "text": [
      "CPU times: user 92 ms, sys: 7.61 ms, total: 99.6 ms\n",
      "Wall time: 103 ms\n"
     ]
    },
    {
     "data": {
      "image/png": "[encoded data removed]",
      "text/plain": [
       "<Figure size 864x864 with 64 Axes>"
      ]
     },
     "metadata": {
      "needs_background": "light"
     },
     "output_type": "display_data"
    }
   ],
   "source": [
    "if compressed_drawings:\n",
    "    compressed = [df_train.c_drawings.iloc[i] for i in np.random.randint(0,len(df_train),1000) ]\n",
    "    %time ims = convert_strokes2image(compressed, size, line_width, linetype, compressed_drawings) \n",
    "else:    \n",
    "    compressed = [df_train.c_imgs.iloc[i] for i in np.random.randint(0,len(df_train),1000) ]             \n",
    "    %time ims = decode_images( compressed )\n",
    "    \n",
    "plot_images( ims, cm.Greys, max_rows_cols=8 )"
   ]
  },
  {
   "cell_type": "code",
   "execution_count": null,
   "metadata": {},
   "outputs": [],
   "source": []
  }
 ],
 "metadata": {
  "kernelspec": {
   "display_name": "Python 3",
   "language": "python",
   "name": "python3"
  },
  "language_info": {
   "codemirror_mode": {
    "name": "ipython",
    "version": 3
   },
   "file_extension": ".py",
   "mimetype": "text/x-python",
   "name": "python",
   "nbconvert_exporter": "python",
   "pygments_lexer": "ipython3",
   "version": "3.7.2"
  }
 },
 "nbformat": 4,
 "nbformat_minor": 2
}
