{
 "cells": [
  {
   "cell_type": "markdown",
   "metadata": {},
   "source": [
    "## Training and validation of goggle quick-draw drawings\n",
    "\n",
    "We train using compressed simplified drawings that are converte to images during training\n"
   ]
  },
  {
   "cell_type": "code",
   "execution_count": 1,
   "metadata": {},
   "outputs": [],
   "source": [
    "%load_ext autoreload\n",
    "%autoreload 2\n",
    "%matplotlib inline"
   ]
  },
  {
   "cell_type": "code",
   "execution_count": 2,
   "metadata": {},
   "outputs": [],
   "source": [
    "import torch\n",
    "from torch import *\n",
    "\n",
    "#let me be on my mac\n",
    "def cuda(self, device=None, non_blocking=False) : return self\n",
    "torch.Tensor.cuda = cuda"
   ]
  },
  {
   "cell_type": "code",
   "execution_count": 3,
   "metadata": {},
   "outputs": [],
   "source": [
    "from code import *\n",
    "from graphics import *\n",
    "\n",
    "import pandas as pd\n",
    "import numpy as np\n",
    "import cv2\n",
    "from pathlib import Path\n",
    "import gc"
   ]
  },
  {
   "cell_type": "code",
   "execution_count": 4,
   "metadata": {},
   "outputs": [],
   "source": [
    "from core_ai.lib.modelmanager import *\n",
    "from core_ai.lib.model import *\n",
    "from core_ai.lib.data import *\n",
    "from core_ai.lib.optimizers import *\n",
    "#from core_ai.lib.callbacks import *\n",
    "from fastprogress import master_bar, progress_bar\n",
    "from fastprogress.fastprogress import format_time\n"
   ]
  },
  {
   "cell_type": "code",
   "execution_count": 5,
   "metadata": {},
   "outputs": [],
   "source": [
    "#for now we want a reproducible randomization\n",
    "random.seed(42) # Set the random number generator to a fixed sequence."
   ]
  },
  {
   "cell_type": "code",
   "execution_count": 6,
   "metadata": {},
   "outputs": [],
   "source": [
    "data             = Path(\"../data/google_quick_draw\")\n",
    "data_prepared    = data/\"train\"\n",
    "data_prepared.mkdir(exist_ok=True)\n",
    "\n",
    "vocab_file       = data_prepared/\"vocab.json\"\n",
    "train_ds_file    = data_prepared/\"train_dataset.pkl\"\n",
    "valid_ds_file    = data_prepared/\"valid_dataset.pkl\""
   ]
  },
  {
   "cell_type": "code",
   "execution_count": 15,
   "metadata": {},
   "outputs": [],
   "source": [
    "compressed_drawings = True\n",
    "valid_ratio         = 0.1\n",
    "size, line_width    = 28, 1\n",
    "linetype            = cv2.LINE_8 #cv2.LINE_AA\n",
    "x_mean_28x28_lw1    = 0.039329988241740325\n",
    "x_sd_28x28_lw1      = 0.1442951068113638\n",
    "qd2norm_image       = drawing2image_nomalized( size, line_width, \n",
    "                                               linetype, compressed_drawings,\n",
    "                                               x_mean_28x28_lw1, x_sd_28x28_lw1 )"
   ]
  },
  {
   "cell_type": "code",
   "execution_count": 8,
   "metadata": {},
   "outputs": [
    {
     "name": "stdout",
     "output_type": "stream",
     "text": [
      "CPU times: user 13.6 s, sys: 23.3 s, total: 36.9 s\n",
      "Wall time: 41.6 s\n"
     ]
    }
   ],
   "source": [
    "%%time\n",
    "with vocab_file.open('r') as fp:\n",
    "    vocab = json.load(fp)\n",
    "train_ds, valid_ds = readDatasets(train_ds_file, valid_ds_file)\n",
    "\n",
    "#normalize x (the image) using qd2norm_image\n",
    "train_ds = NormalizedDataset(train_ds.x, train_ds.y, qd2norm_image )\n",
    "valid_ds = NormalizedDataset(valid_ds.x, valid_ds.y, qd2norm_image )"
   ]
  },
  {
   "cell_type": "code",
   "execution_count": 17,
   "metadata": {},
   "outputs": [],
   "source": [
    "#uncomment if you need to calculate menn and sd for you drawing parameters\n",
    "calc_sd_mean = False\n",
    "if calc_sd_mean :\n",
    "    gd2image = quick_draw2image(size, line_width, linetype, compressed_drawings )\n",
    "    x_mean = calc_x_mean( train_ds, gd2image )\n",
    "    print(x_mean)\n",
    "    x_sd   = calc_x_sd( train_sd, x_mean, gd2image )\n",
    "    gc.collect()\n",
    "    print(x_sd)"
   ]
  },
  {
   "cell_type": "code",
   "execution_count": 18,
   "metadata": {},
   "outputs": [
    {
     "name": "stdout",
     "output_type": "stream",
     "text": [
      "training dataset  : (34000, 34000)\n",
      "validation dataset: (3400, 3400)\n"
     ]
    }
   ],
   "source": [
    "n_train  = 34000\n",
    "n_valid  = 3400\n",
    "ix_train = np.random.randint(0,len(train_ds.x),n_train)\n",
    "ix_valid = np.random.randint(0,len(valid_ds.x),n_valid)\n",
    "\n",
    "train_ds.x, train_ds.y = train_ds.x[ix_train], train_ds.y[ix_train]\n",
    "valid_ds.x, valid_ds.y = valid_ds.x[ix_valid], valid_ds.y[ix_valid]\n",
    "ix_train = ix_valid = None\n",
    "gc.collect()\n",
    "print(f\"training dataset  : {len(train_ds.x), len(train_ds.x) }\") \n",
    "print(f\"validation dataset: {len(valid_ds.x), len(valid_ds.x) }\") "
   ]
  },
  {
   "cell_type": "code",
   "execution_count": 19,
   "metadata": {},
   "outputs": [
    {
     "name": "stdout",
     "output_type": "stream",
     "text": [
      "reading and converting compressed drawings to images\n",
      "plot images : 64\n"
     ]
    },
    {
     "data": {
      "text/plain": [
       "230"
      ]
     },
     "execution_count": 19,
     "metadata": {},
     "output_type": "execute_result"
    },
    {
     "data": {
      "image/png": "[encoded data removed]",
      "text/plain": [
       "<Figure size 432x432 with 64 Axes>"
      ]
     },
     "metadata": {
      "needs_background": "light"
     },
     "output_type": "display_data"
    }
   ],
   "source": [
    "draw_images_from_dataset(train_ds, size, line_width, linetype, nb=64, nrows=8,\n",
    "                         compressed_drawings=True, figsize=(6, 6))\n",
    "gc.collect()"
   ]
  },
  {
   "cell_type": "code",
   "execution_count": 20,
   "metadata": {},
   "outputs": [
    {
     "name": "stdout",
     "output_type": "stream",
     "text": [
      "training and validation batches: 100, 5\n"
     ]
    }
   ],
   "source": [
    "nh,bs              = 50,340\n",
    "train_dl, valid_dl = ( DataLoader( train_ds, batch_size=bs, shuffle=True), \n",
    "                       DataLoader(valid_ds,  batch_size=bs*2) )\n",
    "data               = DataBunch( train_dl, valid_dl, c_in=1, c_out=len(vocab) )\n",
    "print(f\"training and validation batches: {len(data.train_dl)}, {len(data.valid_dl)}\")"
   ]
  },
  {
   "cell_type": "code",
   "execution_count": 21,
   "metadata": {},
   "outputs": [],
   "source": [
    "xb, _ = next(iter(train_dl))"
   ]
  },
  {
   "cell_type": "code",
   "execution_count": 22,
   "metadata": {},
   "outputs": [
    {
     "name": "stdout",
     "output_type": "stream",
     "text": [
      "<class 'torch.Tensor'> torch.Size([340, 1, 28, 28]) tensor(-0.0031) tensor(0.9969)\n"
     ]
    },
    {
     "data": {
      "image/png": "[encoded data removed]",
      "text/plain": [
       "<Figure size 432x432 with 64 Axes>"
      ]
     },
     "metadata": {
      "needs_background": "light"
     },
     "output_type": "display_data"
    }
   ],
   "source": [
    "print( type(xb), xb.shape, xb.mean(), xb.std() )\n",
    "plot_images(xb.view(xb.shape[0],28,28).data.numpy(), cmap=cm.Greys, max_rows_cols=8, figsize=(6, 6) )"
   ]
  },
  {
   "cell_type": "code",
   "execution_count": 23,
   "metadata": {},
   "outputs": [
    {
     "name": "stdout",
     "output_type": "stream",
     "text": [
      "For equal distribution of cases pr class:\n",
      "initial loss:    5.8289456176102075\n",
      "initial accuracy 0.0029411764705882353\n"
     ]
    }
   ],
   "source": [
    "# average loss pr input sample at iteration 0\n",
    "initial_loss = -np.log( 1.0/len(vocab) ) \n",
    "print(f\"For equal distribution of cases pr class:\\ninitial loss:    {initial_loss}\\ninitial accuracy {1.0/len(vocab)}\")\n"
   ]
  },
  {
   "cell_type": "code",
   "execution_count": 49,
   "metadata": {},
   "outputs": [],
   "source": [
    "def print_weight_bias(mm:CnnModelManager):\n",
    "    modules = mm.find_modules(lambda m: not isinstance(m, nn.Sequential))\n",
    "    with torch.no_grad(): \n",
    "        for m in modules:\n",
    "            print(f\"\\nmodule:{type(m)}\")\n",
    "            if getattr(m, 'bias', None) is not None: \n",
    "                print(f\"Bias: {m.bias.shape} m:{m.bias.mean():.3f}, std:{m.bias.std():.3f}, max_abs:{m.bias.abs().max():.3f}\") \n",
    "            if getattr(m, 'weight', None) is not None: \n",
    "                print(f\"Weight:{m.weight.shape} m:{m.weight.mean():.3f}, std:{m.weight.std():.3f}, max_abs:{m.weight.abs().max():.3f}\")\n"
   ]
  },
  {
   "cell_type": "code",
   "execution_count": 25,
   "metadata": {},
   "outputs": [],
   "source": [
    "class SimpleModel(nn.Sequential):\n",
    "    @classmethod\n",
    "    def create(cls, filters_pr_layer,  input_features,  output_features, layer, **kwargs):\n",
    "        in2hidden = [   nn.Conv2d(1, 1, kernel_size=3, stride=2, padding=3//2, bias=False),\n",
    "                        #nn.BatchNorm2d(1),\n",
    "                        ReLUOffset()\n",
    "                        #torch.nn.ReLU(inplace=True)\n",
    "                    ]\n",
    "        #hidden2out =  [Lambda(flatten), nn.Linear(4*14*14, output_features) ]\n",
    "        hidden2out =  [Lambda(flatten), nn.Linear(1*14*14, output_features) ]\n",
    "        all_layers = in2hidden + hidden2out\n",
    "        return SimpleModel(*all_layers)\n",
    "    def initialize(model, uniform:bool=False, a=0):\n",
    "        modules = find_submodules(model, lambda m: not isinstance(m, nn.Sequential))\n",
    "        for m in modules:\n",
    "            if isinstance(m, (nn.Conv2d) ):\n",
    "                init.kaiming_normal_(m.weight, nonlinearity=\"relu\")\n",
    "                if getattr(m, 'bias', None) is not None: m.bias.data.zero_()\n",
    "            elif isinstance(m, nn.BatchNorm2d):\n",
    "                m.weight.data.fill_(1.)\n",
    "                m.bias.data.zero_()\n",
    "            elif isinstance(m, nn.Linear):\n",
    "                init.normal_(m.weight, mean=0., std=1./m.weight.shape[1])\n",
    "                m.bias.data.zero_()\n"
   ]
  },
  {
   "cell_type": "code",
   "execution_count": 26,
   "metadata": {},
   "outputs": [],
   "source": [
    "#layers_sizes = [8,16,32,32]\n",
    "bw_view   = view_tfm(1,28,28)\n",
    "layers_sizes = []\n",
    "loss_func    = F.cross_entropy\n",
    "sched        = combine_scheds([0.3, 0.7], [sched_cos(0.3, 0.6), sched_cos(0.6, 0.2)]) \n",
    "\n",
    "cbfs         = [TrainableModelCallback, TrainEvalCallback, OptimizerCallback, \n",
    "#                partial(ParamScheduler, 'lr', sched),\n",
    "                partial(BatchTransformXCallback, tfm = bw_view), \n",
    "#                partial(MixUp,α=0.2),\n",
    "#                LR_Finder,\n",
    "                Recorder, \n",
    "                partial(AvgStatsCallback,[accuracy]),\n",
    "                ProgressCallback\n",
    "               ]\n"
   ]
  },
  {
   "cell_type": "code",
   "execution_count": 27,
   "metadata": {},
   "outputs": [
    {
     "name": "stdout",
     "output_type": "stream",
     "text": [
      "initial loss:-5.8289456176102075\n"
     ]
    }
   ],
   "source": [
    "#loss_func=LabelSmoothingCrossEntropy()\n",
    "loss_func=F.cross_entropy\n",
    "\n",
    "#layer = partial( conv_layer, stride=2, bn=False, zero_bn=False, act=GeneralRelu )\n",
    "layer = partial( conv_layer, stride=2, bn=False, zero_bn=False, act=partial(torch.nn.ReLU,inplace=True) )\n",
    "print(f\"initial loss:{math.log(1/340)}\")"
   ]
  },
  {
   "cell_type": "code",
   "execution_count": 104,
   "metadata": {
    "scrolled": false
   },
   "outputs": [
    {
     "name": "stdout",
     "output_type": "stream",
     "text": [
      "\n",
      "Weight and bias\n",
      "\n",
      "module:<class 'torch.nn.modules.conv.Conv2d'>\n",
      "Weight:torch.Size([16, 1, 3, 3]) m:0.012, std:0.497, max_abs:1.202\n",
      "\n",
      "module:<class 'core_ai.lib.model.ReLUOffset'>\n",
      "\n",
      "module:<class 'torch.nn.modules.pooling.AvgPool2d'>\n",
      "\n",
      "module:<class 'core_ai.lib.model.ResBlock'>\n",
      "\n",
      "module:<class 'core_ai.lib.model.ResBlock'>\n",
      "\n",
      "module:<class 'core_ai.lib.model.ResBlock'>\n",
      "\n",
      "module:<class 'core_ai.lib.model.ResBlock'>\n",
      "\n",
      "module:<class 'core_ai.lib.model.ResBlock'>\n",
      "\n",
      "module:<class 'core_ai.lib.model.ResBlock'>\n",
      "\n",
      "module:<class 'torch.nn.modules.pooling.AdaptiveAvgPool2d'>\n",
      "\n",
      "module:<class 'core_ai.lib.model.Flatten'>\n",
      "\n",
      "module:<class 'torch.nn.modules.linear.Linear'>\n",
      "Bias: torch.Size([340]) m:0.000, std:0.000, max_abs:0.000\n",
      "Weight:torch.Size([340, 32]) m:-0.003, std:0.249, max_abs:1.034\n",
      "\n",
      "Model summary\n",
      "<class 'torch.nn.modules.conv.Conv2d'> torch.Size([340, 16, 14, 14])\n",
      "<class 'core_ai.lib.model.ReLUOffset'> torch.Size([340, 16, 14, 14])\n",
      "<class 'torch.nn.modules.pooling.AvgPool2d'> torch.Size([340, 16, 7, 7])\n",
      "<class 'core_ai.lib.model.ResBlock'> torch.Size([340, 16, 7, 7])\n",
      "<class 'core_ai.lib.model.ResBlock'> torch.Size([340, 16, 7, 7])\n",
      "<class 'core_ai.lib.model.ResBlock'> torch.Size([340, 32, 4, 4])\n",
      "<class 'core_ai.lib.model.ResBlock'> torch.Size([340, 32, 2, 2])\n",
      "<class 'core_ai.lib.model.ResBlock'> torch.Size([340, 32, 2, 2])\n",
      "<class 'core_ai.lib.model.ResBlock'> torch.Size([340, 32, 2, 2])\n",
      "<class 'torch.nn.modules.pooling.AdaptiveAvgPool2d'> torch.Size([340, 32, 1, 1])\n",
      "<class 'core_ai.lib.model.Flatten'> torch.Size([340, 32])\n",
      "<class 'torch.nn.modules.linear.Linear'> torch.Size([340, 340])\n",
      "\n",
      "Learn\n",
      "epoch     train_loss  train_accuracy  valid_loss  valid_accuracy  time    \n",
      "0         5.704534    0.010000        5.534803    0.017941        00:11     \n",
      "1         5.288448    0.032971        5.158948    0.046765        00:11     \n",
      "2         4.896514    0.063647        4.874469    0.084706        00:10     \n",
      "3         4.581246    0.095588        4.642102    0.095000        00:10     \n",
      "4         4.303756    0.128824        4.483196    0.122647        00:10     \n",
      "5         4.080463    0.157529        4.382564    0.136176        00:10     \n",
      "6         3.872800    0.187176        4.299802    0.146765        00:10     \n",
      "7         3.690905    0.216088        4.215894    0.165294        00:10     \n",
      "8         3.543898    0.234676        4.193689    0.170882        00:10     \n",
      "9         3.408754    0.259235        4.160506    0.171176        00:10     \n",
      "10        3.264780    0.288176        4.186810    0.175882        00:10     \n",
      "11        3.167026    0.304853        4.230731    0.175294        00:10     \n",
      "12        3.054276    0.324676        4.169231    0.186765        00:10     \n",
      "13        2.969259    0.339765        4.199801    0.187647        00:10     \n",
      "14        2.889852    0.354824        4.239596    0.180882        00:10     \n",
      "15        2.793651    0.372529        4.380610    0.176176        00:10     \n",
      "16        2.713804    0.389412        4.353944    0.175882        00:10     \n",
      "17        2.649079    0.401118        4.394554    0.175294        00:10     \n",
      "18        2.584679    0.415147        4.475925    0.172059        00:10     \n",
      "19        2.525429    0.425118        4.540621    0.174118        00:10     \n",
      "20        2.481616    0.428588        4.571544    0.178824        00:10     \n",
      "21        2.445803    0.437618        4.593894    0.168824        00:10     \n",
      "22        2.390737    0.448853        4.711684    0.165000        00:10     \n",
      "23        2.375880    0.452706        4.679142    0.172059        00:10     \n",
      "24        2.323150    0.461353        4.781597    0.160294        00:10     \n",
      "25        2.269171    0.473206        4.801450    0.170000        00:10     \n",
      "26        2.248372    0.476294        4.930979    0.162059        00:10     \n",
      "27        2.196348    0.487735        5.005191    0.167059        00:10     \n",
      "28        2.172583    0.490735        5.064755    0.163824        00:11     \n",
      "29        2.147278    0.494618        5.025666    0.160882        00:11     \n",
      "30        2.099604    0.505500        5.100195    0.152059        00:11     \n",
      "31        2.091148    0.502912        5.149315    0.149706        00:11     \n",
      "32        2.051256    0.515235        5.186869    0.155588        00:10     \n",
      "33        2.025136    0.520441        5.153760    0.155588        00:10     \n",
      "34        2.002768    0.521176        5.277860    0.155882        00:10     \n",
      "35        1.964036    0.529235        5.300889    0.164412        00:10     \n",
      "36        1.949057    0.534147        5.336066    0.157353        00:10     \n",
      "37        1.915621    0.540176        5.445801    0.162353        00:10     \n",
      "38        1.896682    0.544882        5.451567    0.158529        00:10     \n",
      "39        1.870722    0.549324        5.511180    0.156765        00:10     \n",
      "40        1.818357    0.561765        5.552883    0.155588        00:10     \n",
      "41        1.815541    0.557941        5.467054    0.161765        00:10     \n",
      "42        1.744585    0.575382        5.620850    0.168235        00:10     \n",
      "43        1.768306    0.569618        5.588190    0.155000        00:10     \n",
      "44        1.720948    0.582059        5.767050    0.145882        00:10     \n",
      "45        1.716913    0.581471        5.823703    0.155000        00:10     \n",
      "46        1.671521    0.594441        5.812046    0.160882        00:12     \n",
      "47        1.660370    0.592088        5.897341    0.154706        00:12     \n",
      "48        1.634237    0.601412        5.846777    0.163235        00:10     \n",
      "49        1.621355    0.601618        5.940203    0.154706        00:11     \n",
      "50        1.601616    0.607882        6.017216    0.155588        00:10     \n",
      "51        1.540063    0.622412        6.075281    0.152059        00:10     \n",
      "52        1.541900    0.619000        6.014570    0.153824        00:10     \n",
      "53        1.488239    0.636941        6.078138    0.164706        00:10     \n",
      "54        1.491094    0.629765        6.210719    0.155588        00:10     \n",
      "55        1.446112    0.641500        6.392258    0.147941        00:10     \n",
      "56        1.408739    0.649824        6.361770    0.159706        00:10     \n",
      "57        1.385002    0.653235        6.502146    0.163235        00:10     \n",
      "58        1.383244    0.656765        6.440284    0.140882        00:10     \n",
      "59        1.325486    0.669882        6.683619    0.157353        00:10     \n",
      "60        1.352004    0.660735        6.669095    0.154118        00:10     \n",
      "61        1.263112    0.684147        6.648637    0.162941        00:11     \n",
      "62        1.262153    0.682941        6.711778    0.157647        00:12     \n",
      "63        1.242902    0.688029        6.987698    0.160294        00:11     \n",
      "64        1.184624    0.702971        7.006883    0.150882        00:12     \n",
      "65        1.183918    0.702647        7.110166    0.152353        00:10     \n",
      "66        1.155459    0.708000        7.253054    0.147647        00:11     \n",
      "67        1.131974    0.716882        7.283289    0.152353        00:12     \n",
      "68        1.072914    0.730912        7.252638    0.156176        00:13     \n",
      "69        1.069909    0.730853        7.703864    0.148235        00:13     \n",
      "70        1.036586    0.737618        7.668655    0.148529        00:12     \n",
      "71        1.009932    0.742382        7.698699    0.154412        00:12     \n",
      "72        1.002013    0.745559        7.691039    0.151176        00:11     \n",
      "73        0.969166    0.753882        8.036034    0.144118        00:11     \n",
      "74        0.937184    0.764029        7.888988    0.150882        00:11     \n",
      "75        0.906728    0.771029        8.047024    0.144706        00:11     \n",
      "76        0.906257    0.768000        8.018436    0.147941        00:11     \n",
      "77        0.866484    0.782676        8.372435    0.134412        00:11     \n",
      "78        0.847499    0.783265        8.279413    0.151176        00:11     \n",
      "79        0.812853    0.794118        8.741185    0.143824        00:12     \n",
      "80        0.801236    0.796235        8.851618    0.144412        00:10     \n",
      "81        0.765602    0.806029        8.843722    0.148824        00:12     \n",
      "82        0.773267    0.801912        8.825065    0.139118        00:11     \n",
      "83        0.729336    0.813912        8.973171    0.138529        00:12     \n"
     ]
    },
    {
     "name": "stdout",
     "output_type": "stream",
     "text": [
      "84        0.701016    0.822059        9.154240    0.146176        00:11     \n",
      "85        0.711458    0.816471        9.167686    0.142941        00:11     \n",
      "86        0.683436    0.823176        9.340676    0.148235        00:11     \n",
      "87        0.656557    0.831176        9.681368    0.140000        00:11     \n",
      "88        0.652669    0.831235        9.571868    0.146176        00:12     \n",
      "89        0.620748    0.841382        9.618020    0.130294        00:12     \n",
      "90        0.601878    0.845500        10.026140   0.137941        00:11     \n",
      "91        0.606885    0.843971        9.964112    0.152941        00:10     \n",
      "92        0.598675    0.845265        10.268290   0.142647        00:10     \n",
      "93        0.576037    0.852618        10.226628   0.151765        00:10     \n",
      "94        0.561119    0.855882        10.390353   0.131176        00:10     \n",
      "95        0.579815    0.847382        10.507916   0.140294        00:10     \n",
      "96        0.529401    0.863147        10.675856   0.143235        00:10     \n",
      "97        0.523755    0.863912        10.879995   0.141765        00:10     \n",
      "98        0.522352    0.863618        11.075740   0.141765        00:10     \n",
      "99        0.527496    0.861471        11.006404   0.135882        00:10     \n",
      "CPU times: user 1h 40min 33s, sys: 22min 49s, total: 2h 3min 22s\n",
      "Wall time: 18min 24s\n"
     ]
    }
   ],
   "source": [
    "# loss with bias initialized to zero => the first two epochs are used to initialize \n",
    "#the bias\n",
    "               \n",
    "#why do i have to create a new learner   # calling mm.getFirstbatch creates problems\n",
    "#opt   = SGD(sched,max_lr=0.5)\n",
    "opt   = Adam(sched,max_lr=0.01, moms=(0.85,0.95), max_wd = 0.0)#1e-6)\n",
    "\n",
    "#model = SimpleModel.create(layers_sizes, data.c_in, data.c_out, layer=layer)\n",
    "model = partial(xresnet18, c_in=data.c_in, c_out=data.c_out)() #xresnet50\n",
    "mm    = CnnModelManager( model )\n",
    "model.initialize(uniform=False)\n",
    "\n",
    "print(\"\\nWeight and bias\")\n",
    "print_weight_bias(mm)\n",
    "\n",
    "print(\"\\nModel summary\")\n",
    "mm.summary(xb, print_mod=False)\n",
    "\n",
    "\n",
    "print(\"\\nLearn\")\n",
    "learn = Learner( mm.model, data, loss_func=loss_func)\n",
    "%time learn.fit(100, opt=opt, cb_funcs=cbfs)"
   ]
  },
  {
   "cell_type": "raw",
   "metadata": {},
   "source": [
    "xresnet18: e100 normal, ReLU,       with BN and max_lr=0.01, moms=(0.85,0.95), max_wd=0\n",
    "98        0.313785    0.915176        9.493828    0.184118        00:14     \n",
    "99        0.324110    0.910000        9.809555    0.176471        00:14    \n",
    "\n",
    "xresnet18: e100 normal, ReLUOffset, with BN and max_lr=0.01, moms=(0.85,0.95), max_wd=0\n",
    "98        0.303246    0.915794        9.587354    0.180294        00:14     \n",
    "99        0.299215    0.916147        9.495751    0.181765        00:14     \n",
    "\n",
    "xresnet18: e100 normal, ReLU,         no BN and max_lr=0.01, moms=(0.85,0.95), max_wd=0\n",
    "98        0.813801    0.800235        10.278273   0.125000        00:10     \n",
    "99        0.798826    0.803676        10.522903   0.129118        00:10    \n",
    "\n",
    "xresnet18: e100 normal, ReLUOffset,   no BN and max_lr=0.01, moms=(0.85,0.95), max_wd=0\n",
    "98        0.522352    0.863618        11.075740   0.141765        00:10     \n",
    "99        0.527496    0.861471        11.006404   0.135882        00:10     \n",
    "\n",
    "-----------------------------------------------------------------------------------------\n",
    "xresnet18: e25 normal, nn.ReLU,    with BN and max_lr=0.01, moms=(0.85,0.95), max_wd=0\n",
    "epoch     train_loss  train_accuracy  valid_loss  valid_accuracy  time         \n",
    "23        1.325137    0.685559        4.886136    0.214118        00:15     \n",
    "24        1.287305    0.698176        4.790176    0.214412        00:14\n",
    "\n",
    "xresnet18: e25 normal, ReLUOffset, with BN and max_lr=0.01, moms=(0.85,0.95), max_wd=0\n",
    "epoch     train_loss  train_accuracy  valid_loss  valid_accuracy  time        \n",
    "23        1.280809    0.703912        5.209160    0.188235        00:15     \n",
    "24        1.255277    0.707706        5.217085    0.188529        00:16     \n",
    "\n",
    "xresnet18: e25 normal, nn.ReLU,    no BN and max_lr=0.01, moms=(0.85,0.95), max_wd=0\n",
    "epoch     train_loss  train_accuracy  valid_loss  valid_accuracy  time         \n",
    "23        1.796259    0.585735        5.228325    0.188235        00:10     \n",
    "24        1.746996    0.592824        5.331178    0.197353        00:10     \n",
    "\n",
    "xresnet18: e25 normal, ReLUOffset, no BN and max_lr=0.01, moms=(0.85,0.95), max_wd=0\n",
    "epoch     train_loss  train_accuracy  valid_loss  valid_accuracy  time        \n",
    "23        1.617558    0.626000        5.307352    0.180294        00:10     \n",
    "24        1.586054    0.633176        5.366869    0.182647        00:11\n",
    "\n"
   ]
  },
  {
   "cell_type": "code",
   "execution_count": 102,
   "metadata": {
    "scrolled": true
   },
   "outputs": [
    {
     "data": {
      "image/png": "[encoded data removed]",
      "text/plain": [
       "<Figure size 432x288 with 1 Axes>"
      ]
     },
     "metadata": {
      "needs_background": "light"
     },
     "output_type": "display_data"
    },
    {
     "data": {
      "text/plain": [
       "(None, None)"
      ]
     },
     "execution_count": 102,
     "metadata": {},
     "output_type": "execute_result"
    }
   ],
   "source": [
    "learn.find_subcription_by_cls(Recorder).plot_loss(),plt.show()"
   ]
  },
  {
   "cell_type": "code",
   "execution_count": 103,
   "metadata": {
    "scrolled": false
   },
   "outputs": [
    {
     "name": "stdout",
     "output_type": "stream",
     "text": [
      "\n",
      "module:<class 'torch.nn.modules.conv.Conv2d'>\n",
      "Weight:torch.Size([16, 1, 3, 3]) m:-0.069, std:0.519, max_abs:1.684\n",
      "\n",
      "module:<class 'torch.nn.modules.activation.ReLU'>\n",
      "\n",
      "module:<class 'torch.nn.modules.pooling.AvgPool2d'>\n",
      "\n",
      "module:<class 'core_ai.lib.model.ResBlock'>\n",
      "\n",
      "module:<class 'core_ai.lib.model.ResBlock'>\n",
      "\n",
      "module:<class 'core_ai.lib.model.ResBlock'>\n",
      "\n",
      "module:<class 'core_ai.lib.model.ResBlock'>\n",
      "\n",
      "module:<class 'core_ai.lib.model.ResBlock'>\n",
      "\n",
      "module:<class 'core_ai.lib.model.ResBlock'>\n",
      "\n",
      "module:<class 'torch.nn.modules.pooling.AdaptiveAvgPool2d'>\n",
      "\n",
      "module:<class 'core_ai.lib.model.Flatten'>\n",
      "\n",
      "module:<class 'torch.nn.modules.linear.Linear'>\n",
      "Bias: torch.Size([340]) m:-0.013, std:0.605, max_abs:1.837\n",
      "Weight:torch.Size([340, 32]) m:-0.230, std:0.614, max_abs:4.721\n"
     ]
    }
   ],
   "source": [
    "print_weight_bias(mm)\n",
    "#1/math.sqrt(1*3*3)*2/math.sqrt(12), 1/math.sqrt(196)*2/math.sqrt(12)"
   ]
  },
  {
   "cell_type": "raw",
   "metadata": {},
   "source": [
    "#check that LRFinder works\n",
    "%time learn.fit(1, opt=opt, cb_funcs=cbfs.copy()+[LR_Finder])\n",
    "learn.find_subcription_by_cls(LR_Finder).plot_loss(skip_end=5)"
   ]
  }
 ],
 "metadata": {
  "kernelspec": {
   "display_name": "Python 3",
   "language": "python",
   "name": "python3"
  },
  "language_info": {
   "codemirror_mode": {
    "name": "ipython",
    "version": 3
   },
   "file_extension": ".py",
   "mimetype": "text/x-python",
   "name": "python",
   "nbconvert_exporter": "python",
   "pygments_lexer": "ipython3",
   "version": "3.7.2"
  }
 },
 "nbformat": 4,
 "nbformat_minor": 2
}
